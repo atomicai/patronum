{
 "cells": [
  {
   "cell_type": "code",
   "execution_count": null,
   "metadata": {},
   "outputs": [],
   "source": [
    "from patronum.processing import ICLSProcessor, IProcessor\n",
    "from patronum.processing.silo import DataSilo\n",
    "from transformers import AutoTokenizer\n",
    "from pathlib import Path\n",
    "import os"
   ]
  },
  {
   "cell_type": "code",
   "execution_count": null,
   "metadata": {},
   "outputs": [],
   "source": [
    "# model_name_or_path  = \"intfloat/multilingual-e5-large\"\n",
    "model_name_or_path = \"distilbert-base-multilingual-cased\"\n",
    "data_dir = Path.home() / \"IDataset\" / \"vk\" / \"banner-cls\"\n",
    "save_dir = Path(os.getcwd()) / \"weights\""
   ]
  },
  {
   "cell_type": "code",
   "execution_count": null,
   "metadata": {},
   "outputs": [],
   "source": [
    "def process_fn(text:str):\n",
    "    return \"query:\" + text.strip()"
   ]
  },
  {
   "cell_type": "code",
   "execution_count": null,
   "metadata": {},
   "outputs": [],
   "source": [
    "label_list = [\n",
    "    'EDUCATION',\n",
    "    'BUSINESSANDFINANCE',\n",
    "    'AUTOMOTIVE',\n",
    "    'TELEVISION',\n",
    "    'RELIGIONANDSPIRITUALITY',\n",
    "    'FAMILYANDRELATIONSHIPS',\n",
    "    'EVENTSANDATTRACTIONS',\n",
    "    'MEDICALHEALTH',\n",
    "    'HEALTHYLIVING',\n",
    "    'STYLEANDFASHION',\n",
    "    'NEWSANDPOLITICS',\n",
    "    'TRAVEL',\n",
    "    'HOBBIESANDINTERESTS',\n",
    "    'MUSICANDAUDIO',\n",
    "    'BOOKSANDLITERATURE',\n",
    "    'HOMEANDGARDEN',\n",
    "    'PERSONALFINANCE',\n",
    "    'OTHER',\n",
    "    'FOODANDDRINK',\n",
    "    'SPORTS',\n",
    "    'JEWELRYANDWATCHES',\n",
    "    'MOVIES',\n",
    "    'SHOPPING',\n",
    "    'FINEART',\n",
    "    'CAREERS',\n",
    "    'PETS',\n",
    "    'VIDEOGAMING',\n",
    "    'TECHNOLOGYANDCOMPUTING',\n",
    "    'REALESTATE',\n",
    "    'CASINO',\n",
    "    'POPCULTURE'\n",
    "]"
   ]
  },
  {
   "cell_type": "code",
   "execution_count": null,
   "metadata": {},
   "outputs": [],
   "source": [
    "processor = ICLSProcessor(\n",
    "    tokenizer=AutoTokenizer.from_pretrained(model_name_or_path),\n",
    "    max_seq_len=512,\n",
    "    data_dir=data_dir,\n",
    "    train_filename=\"test.csv\",\n",
    "    dev_filename=\"test.csv\",\n",
    "    test_filename=\"test.csv\",\n",
    "    label_list=label_list,\n",
    "    metric=\"acc\",\n",
    "    delimiter=\",\",\n",
    "    text_column_name=\"text\",\n",
    "    label_column_name=\"label\",\n",
    "    process_fn=process_fn)"
   ]
  },
  {
   "cell_type": "code",
   "execution_count": null,
   "metadata": {},
   "outputs": [],
   "source": [
    "processor.tokenizer"
   ]
  },
  {
   "cell_type": "code",
   "execution_count": null,
   "metadata": {},
   "outputs": [],
   "source": [
    "# processor.save(save_dir)\n",
    "processor = IProcessor.load_from_dir(save_dir)\n",
    "processor.process_fn = process_fn"
   ]
  },
  {
   "cell_type": "code",
   "execution_count": null,
   "metadata": {},
   "outputs": [],
   "source": [
    "docs = [\n",
    "    \"I realize I detest Haymitch. No wonder the District 12 tributes never stand a chance. It isn’t just that we’ve been underfed and lack training. Some of our tributes have still been strong enough to make a go of it. But we rarely get sponsors and he’s (Haymitch) a big part of the reason why. The rich people who back tributes — either because they’re betting on them or simply for the bragging rights of picking a winner — expect someone classier than Haymitch to deal with.\",\n",
    "    \"In late summer, I was washing up in a pond when I noticed the plants growing around me. Tall with leaves like arrowheads. Blossoms with three white petals. I knelt down in the water, my fingers digging into the soft mud, and I pulled up handfuls of the roots. Small, bluish tubers that don’t look like much but boiled or baked are as good as any potato. \\\"Katniss,\\\" I said aloud. It’s the plant I was named for. And I heard my father’s voice joking, \\\"As long as you can find yourself, you’ll never starve.\\\"\\n I spent hours stirring up the pond bed with my toes and a stick, gathering the tubers that floated to the top. That night, we feasted on fish and katniss roots until we were all, for the first time in months, full.\",\n",
    "    \"They’re funny birds and something of a slap in the face to the Capitol. During the rebellion, the Capitol bred a series of genetically altered animals as weapons. The common term for them was muttations, or sometimes mutts for short. One was a special bird called a jabberjay that had the ability to memorize and repeat whole human conversations. They were homing birds, exclusively male, that were released into regions where the Capitol’s enemies were known to be hiding. After the birds gathered words, they’d fly back to centers to be recorded. It took people awhile to realize what was going on in the districts, how private conversations were being transmitted. Then, of course, the rebels fed the Capitol endless lies, and the joke was on it. So the centers were shut down and the birds were abandoned to die off in the wild.\",\n",
    "    \"Peeta Mellark, on the other hand, has obviously been crying and interestingly enough does not seem to be trying to cover it up. I immediately wonder if this will be his strategy in the Games. To appear weak and frightened, to reassure the other tributes that he is no competition at all, and then come out fighting. This worked very well for a girl, Johanna Mason, from District 7 a few years back. She seemed like such a sniveling, cowardly fool that no one bothered about her until there were only a handful of contestants left. It turned out she could kill viciously. Pretty clever, the way she played it. But this seems an odd strategy for Peeta Mellark because he’s a baker’s son. All those years of having enough to eat and hauling bread trays around have made him broad-shouldered and strong. It will take an awful lot of weeping to convince anyone to overlook him.\",\n",
    "    \"Finally, Gale is here and maybe there is nothing romantic between us, but when he opens his arms I don’t hesitate to go into them. His body is familiar to me — the way it moves, the smell of wood smoke, even the sound of his heart beating I know from quiet moments on a hunt — but this is the first time I really feel it, lean and hard-muscled against my own. \\\"Listen,\\\" he says. \\\"Getting a knife should be pretty easy, but you’ve got to get your hands on a bow. That’s your best chance.\\\"\\n \\\"They don’t always have bows,\\\" I say, thinking of the year there were only horrible spiked maces that the tributes had to bludgeon one another to death with.\\n \\\"Then make one,\\\" says Gale. \\\"Even a weak bow is better than no bow at all.\\\" I have tried copying my father’s bows with poor results. It’s not that easy. Even he had to scrap his own work sometimes.\"\n",
    "]\n",
    "\n",
    "_docs = [{\"text\": d, processor.tasks['text_classification'][\"label_name\"]: \"BOOKSANDLITERATURE\"} for d in docs]"
   ]
  },
  {
   "cell_type": "code",
   "execution_count": null,
   "metadata": {},
   "outputs": [],
   "source": [
    "dataset, tensor_names, problematic_sample_ids = processor.dataset_from_dicts(\n",
    "dicts=_docs, indices=list(range(len(_docs)))  # TODO remove indices\n",
    ")"
   ]
  },
  {
   "cell_type": "code",
   "execution_count": null,
   "metadata": {},
   "outputs": [],
   "source": [
    "silo = DataSilo(processor=processor, batch_size=256)"
   ]
  },
  {
   "cell_type": "code",
   "execution_count": null,
   "metadata": {},
   "outputs": [],
   "source": [
    "# loader = silo.get_data_loader(dataset_name=\"train\")"
   ]
  },
  {
   "cell_type": "code",
   "execution_count": null,
   "metadata": {},
   "outputs": [],
   "source": [
    "# next(iter(silo.loaders[\"train\"]))"
   ]
  },
  {
   "cell_type": "code",
   "execution_count": null,
   "metadata": {},
   "outputs": [],
   "source": [
    "from patronum.modeling.prime import IDIBERT\n",
    "from patronum.modeling import ILanguageModel"
   ]
  },
  {
   "cell_type": "code",
   "execution_count": null,
   "metadata": {},
   "outputs": [],
   "source": [
    "# lm = ILanguageModel.load(Path(os.getcwd()) / \"weights\")"
   ]
  },
  {
   "cell_type": "code",
   "execution_count": null,
   "metadata": {},
   "outputs": [],
   "source": [
    "lm = IDIBERT.load(\"distilbert-base-multilingual-cased\")"
   ]
  },
  {
   "cell_type": "code",
   "execution_count": null,
   "metadata": {},
   "outputs": [],
   "source": [
    "save_dir = Path(os.getcwd()) / \"weights\""
   ]
  },
  {
   "cell_type": "code",
   "execution_count": null,
   "metadata": {},
   "outputs": [],
   "source": [
    "from patronum.modeling.flow import ICLSHead"
   ]
  },
  {
   "cell_type": "code",
   "execution_count": null,
   "metadata": {},
   "outputs": [],
   "source": [
    "num_labels =len(label_list)"
   ]
  },
  {
   "cell_type": "code",
   "execution_count": null,
   "metadata": {},
   "outputs": [],
   "source": [
    "head = ICLSHead(layer_dims=[768, len(label_list)], num_labels=len(label_list))"
   ]
  },
  {
   "cell_type": "code",
   "execution_count": null,
   "metadata": {},
   "outputs": [],
   "source": [
    "# lm.save(save_dir)"
   ]
  },
  {
   "cell_type": "code",
   "execution_count": null,
   "metadata": {},
   "outputs": [],
   "source": [
    "# head.save(save_dir)"
   ]
  },
  {
   "cell_type": "code",
   "execution_count": null,
   "metadata": {},
   "outputs": [],
   "source": [
    "from patronum.modeling import M1Runner"
   ]
  },
  {
   "cell_type": "code",
   "execution_count": null,
   "metadata": {},
   "outputs": [],
   "source": [
    "from patronum.etc import initialize_device_settings"
   ]
  },
  {
   "cell_type": "code",
   "execution_count": null,
   "metadata": {},
   "outputs": [],
   "source": [
    "device, n_gpu = initialize_device_settings(use_cuda=True)"
   ]
  },
  {
   "cell_type": "code",
   "execution_count": null,
   "metadata": {},
   "outputs": [],
   "source": [
    "runner = M1Runner(\n",
    "        language_model=lm,\n",
    "        prediction_heads=[head],\n",
    "        embeds_dropout_prob=0.1,\n",
    "        lm_output_types=[\"per_sequence\"],\n",
    "        device=\"cuda\")"
   ]
  },
  {
   "cell_type": "code",
   "execution_count": null,
   "metadata": {},
   "outputs": [],
   "source": [
    "# runner.save(save_dir)\n",
    "# runner = M1Runner.load(save_dir, device=\"cpu\")"
   ]
  },
  {
   "cell_type": "code",
   "execution_count": null,
   "metadata": {},
   "outputs": [],
   "source": [
    "from patronum.training.optimizer import initialize_optimizer"
   ]
  },
  {
   "cell_type": "code",
   "execution_count": null,
   "metadata": {},
   "outputs": [],
   "source": [
    "# 5. Create an optimizer\n",
    "model, optimizer, lr_schedule = initialize_optimizer(\n",
    "    model=runner,\n",
    "    learning_rate=3e-5,\n",
    "    device=device,\n",
    "    n_batches=len(silo.loaders[\"train\"]),\n",
    "    n_epochs=1,\n",
    "    use_amp=False)"
   ]
  },
  {
   "cell_type": "code",
   "execution_count": null,
   "metadata": {},
   "outputs": [],
   "source": []
  }
 ],
 "metadata": {
  "kernelspec": {
   "display_name": "optimus",
   "language": "python",
   "name": "python3"
  },
  "language_info": {
   "codemirror_mode": {
    "name": "ipython",
    "version": 3
   },
   "file_extension": ".py",
   "mimetype": "text/x-python",
   "name": "python",
   "nbconvert_exporter": "python",
   "pygments_lexer": "ipython3",
   "version": "3.10.12"
  },
  "orig_nbformat": 4
 },
 "nbformat": 4,
 "nbformat_minor": 2
}
